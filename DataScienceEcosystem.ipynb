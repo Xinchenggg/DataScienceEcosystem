{
 "cells": [
  {
   "cell_type": "markdown",
   "id": "0a05d3fa-50a3-4a1f-a0cd-df22d3294bb0",
   "metadata": {
    "tags": []
   },
   "source": [
    "# Data Science Tools and Ecosystem"
   ]
  },
  {
   "cell_type": "markdown",
   "id": "57e858d6-06e3-4ed3-867c-030064b8bca5",
   "metadata": {},
   "source": [
    "In this notebook, Data Science Tools and Ecosystem are summarized."
   ]
  },
  {
   "cell_type": "markdown",
   "id": "965edbb6-ee07-4427-993e-1b6d2ce00300",
   "metadata": {},
   "source": [
    "**Objectives:**\n",
    "- List popular languages for Data Science\n",
    "- List popular libraries for Data Science\n",
    "- List popular tools for Data Science\n",
    "- Example of arithmetic expressions in Python"
   ]
  },
  {
   "cell_type": "markdown",
   "id": "a5b39607-8646-4039-a0a5-6e369148bd16",
   "metadata": {
    "tags": []
   },
   "source": [
    "Some of the popular languages that Data Scientists use are:\n",
    "1. Python\n",
    "2. R\n",
    "3. Javascript\n",
    "4. C++"
   ]
  },
  {
   "cell_type": "markdown",
   "id": "1800696e-2462-43ed-a5b9-a52586eaec1d",
   "metadata": {},
   "source": [
    "Some of the commonly used libraries used by Data Scientists include:\n",
    "\n",
    "For python:\n",
    "1. Scikit-learn\n",
    "2. Matplotlib\n",
    "3. TensorFlow\n",
    "4. Pandas\n",
    "5. NumPy\n",
    "6. Keras"
   ]
  },
  {
   "cell_type": "markdown",
   "id": "7f4c4820-65b1-4c94-bd85-2eed1addef2d",
   "metadata": {},
   "source": [
    "| Data Science Tools |\n",
    "| ------------------ |\n",
    "| Jupyter Notebook |\n",
    "| Apache |\n",
    "| RStudio |\n",
    "| Spyder |"
   ]
  },
  {
   "cell_type": "markdown",
   "id": "9812b6fd-8b32-47d9-9066-63f7856d0600",
   "metadata": {
    "tags": []
   },
   "source": [
    "### Below are a few examples of evaluating arithmetic expressions in Python"
   ]
  },
  {
   "cell_type": "code",
   "execution_count": 4,
   "id": "8267ca3c-373d-4249-981e-6e2e1c7b6215",
   "metadata": {
    "tags": []
   },
   "outputs": [
    {
     "data": {
      "text/plain": [
       "17"
      ]
     },
     "execution_count": 4,
     "metadata": {},
     "output_type": "execute_result"
    }
   ],
   "source": [
    "# This a simple arithmetic expression to mutiply then add integers\n",
    "(3*4)+5"
   ]
  },
  {
   "cell_type": "code",
   "execution_count": 11,
   "id": "d533ad84-48cc-407c-a205-90df81b3af45",
   "metadata": {
    "tags": []
   },
   "outputs": [
    {
     "data": {
      "text/plain": [
       "3.3333333333333335"
      ]
     },
     "execution_count": 11,
     "metadata": {},
     "output_type": "execute_result"
    }
   ],
   "source": [
    "# This will convert 200 minutes to hours by dividing by 60\n",
    "200/60"
   ]
  },
  {
   "cell_type": "markdown",
   "id": "a2dce05c-4afa-4e4b-95e0-c0f9e84a3486",
   "metadata": {},
   "source": [
    "## Author\n",
    "Xincheng"
   ]
  }
 ],
 "metadata": {
  "kernelspec": {
   "display_name": "Python 3 (ipykernel)",
   "language": "python",
   "name": "python3"
  },
  "language_info": {
   "codemirror_mode": {
    "name": "ipython",
    "version": 3
   },
   "file_extension": ".py",
   "mimetype": "text/x-python",
   "name": "python",
   "nbconvert_exporter": "python",
   "pygments_lexer": "ipython3",
   "version": "3.10.13"
  }
 },
 "nbformat": 4,
 "nbformat_minor": 5
}
